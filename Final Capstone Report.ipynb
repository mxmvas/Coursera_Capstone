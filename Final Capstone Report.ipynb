{
    "nbformat_minor": 1, 
    "cells": [
        {
            "source": "## Final Capstone Project: Machine Learning for Business Analysis", 
            "cell_type": "markdown", 
            "metadata": {
                "collapsed": true
            }
        }, 
        {
            "source": "### 1. Introduction\n\nOpening a new business is always a difficult task, especially in an unfamiliar county or even a city. According to the official statistics, the annual insolvency rate in Canada was 4.2 business units per 1,000 population aged 18 and older ([Government of Canada](https://www.ic.gc.ca/eic/site/bsf-osb.nsf/eng/br01820.html \"Insolvency Statistics\")). Given the relatively large population of Canada, the total number of bankruptcies is quite significant. This is due to both errors in the strategies of running business and mistakes in planning. In addition to the obvious differences in business practices, legislation and cultural preferences, additional difficulties arise when choosing a place for future business. \n\nThe aim of this project is to provide a meaningful insight into the neighbourhoods composition of the city of Toronto. In particular, this project is aimed at providing potential newcomers with an understanding of the suitability of particular regions in the area for the launching of the restaurant business, in particular the Italian restaurant. This will be done using machine learning and analysis of Foursquare data. \n\nThis project is structured as follows. It starts with the Introduction section in which the business problem is defined. It is followed by the Data section, which provides an overview of the dataset employed and its sources. Methodology section contains a presentation and justification for the use of selected research methodology and statistical instruments. Next, the obtained results are presented in the Results section and interpreted in Discussion. Finally, the Conclusion section summarises the work done.  ", 
            "cell_type": "markdown", 
            "metadata": {}
        }, 
        {
            "source": "### 2. Data\nThis research employs neighbourhood-level data of the City of Toronto, which is retrieved from Foursquare using API function. This data contains a list of venues, their characteristics and geographical locations. The list of neighbourhoods is retrieved from [Wikipedia (2018)](https://en.wikipedia.org/wiki/List_of_postal_codes_of_Canada:_M \"Postal Codes of Canada\"), which contains a list of Toronto postal codes and their latitudes and longitudes. This information is used to calculate Property Score for all neighbourhoods. The overall list of deliverables is as follows:\n\n<ul style=\"list-style-type:circle\">\n  <li>The list of all Toronto neighborhoods with their geographical coordinates;</li>\n  <li>The list of top venues in each neighborhood;</li>\n  <li>Property Score index calculated for each neighborhood;</li>\n  <li>The set of clusters distributed based on the neighborhood scores and characteristics.</li>\n</ul>\n\nThe logic of the study is as follows. Based on the index, the neighborhoods with the highest popularity of Italian restaurants are determined. Then, based on the cluster distribution, a list of areas suitable for opening a new restaurant is determined through machine analysis.  ", 
            "cell_type": "markdown", 
            "metadata": {}
        }, 
        {
            "source": "### 3. Methodology\n\nThe proposed research methodology is as follows. It is expected to use secondary data for the machine learning analysis. First, secondary data from the Foursquare web-site will be processed and converted to the required data table format. Next, using the__pandas__ and __geopy_ libraries__, the list of neqighbourhood will be linked to the coordinates and closest venues. After that, neighbourhood will be sorted by the popularity of \"Pizza places\". Then, using the k-means clustering, documentation to which is presented at [datascience.com](https://www.datascience.com/blog/k-means-clustering), all neigbourhoods will be grouped in several clusters. All neigbourhoods clustered with the top \"Pizza places\" neigbourhood will be considered the best choice. ", 
            "cell_type": "markdown", 
            "metadata": {}
        }, 
        {
            "source": "### 4. Analysis\n\nThe deatailed results of the analysis, as well as the code, are presented in the Jupyter Notebook, located at [Github](123.2). According to analysis, the neigbourhood with the most number of \"Pizza places\" is Humber Summit. Therefore, the cluster of neigbourhoods that includes that area would be suitable for future business.\n\nToronto was clustered into 7 segments based on the neigbourhoods characteristics. Figure 1 presents the results of k-mean clustering using __folium__ library.\n\nFigure 1.\n<img src=\"https://github.com/mxmvas/Coursera_Capstone/blob/master/Toronto.png?raw=true\" alt=\"Figure 1\">\n", 
            "cell_type": "markdown", 
            "metadata": {}
        }, 
        {
            "source": "### 5. Discussion\nIt could be observed that Toronto consists of quite homogeneous neigbourhoods in the context of popular venues. Although there are several outliners in each borough, the majority of neigbourhoods were classified to the same cluster, namely 2. Not surprisingly, Humber Summit also belongs to this cluster. Therefore, it could be concluded almost all neighbourhoods in Toronto Downtown and Scarborough are suitable for starting a new business. It should be noted that the neigbourhood with the highest number of such venues, namely Humber Summit, is not an option due to strong competition between italian cafes in the area.", 
            "cell_type": "markdown", 
            "metadata": {}
        }, 
        {
            "source": "### 6. Conclusion\nTh results of these project demonstrate that there are plenty of neigbourhoods in Toronto to start a new business, namely italian restaurant. However, the practical implication of the obtained results is limited, since they are based on a limited set of factors rather than on a comprehensive one. Although the appropriate cluster of neighbourhoods was itentified, the final decision should be made in conjunction with the property price index, population average income and demographic analysis.", 
            "cell_type": "markdown", 
            "metadata": {}
        }
    ], 
    "metadata": {
        "kernelspec": {
            "display_name": "Python 3.5", 
            "name": "python3", 
            "language": "python"
        }, 
        "language_info": {
            "mimetype": "text/x-python", 
            "nbconvert_exporter": "python", 
            "version": "3.5.5", 
            "name": "python", 
            "file_extension": ".py", 
            "pygments_lexer": "ipython3", 
            "codemirror_mode": {
                "version": 3, 
                "name": "ipython"
            }
        }
    }, 
    "nbformat": 4
}